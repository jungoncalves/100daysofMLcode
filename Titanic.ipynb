{
 "cells": [
  {
   "cell_type": "markdown",
   "metadata": {},
   "source": [
    "# 100daysofML\n",
    "\n",
    "## Titanic: Machine Learning from Disaster "
   ]
  },
  {
   "cell_type": "markdown",
   "metadata": {},
   "source": [
    "### Resumo\n"
   ]
  },
  {
   "cell_type": "markdown",
   "metadata": {},
   "source": [
    "teste teste teste"
   ]
  },
  {
   "cell_type": "markdown",
   "metadata": {},
   "source": [
    "teste test 2 "
   ]
  },
  {
   "cell_type": "markdown",
   "metadata": {},
   "source": [
    "### Importanto bibliotecas utilizadas "
   ]
  },
  {
   "cell_type": "code",
   "execution_count": 2,
   "metadata": {},
   "outputs": [],
   "source": [
    "import pandas as pd\n",
    "import numpy as np\n",
    "import matplotlib.pyplot as plt\n",
    "from matplotlib import cm as cm #colormap\n",
    "import seaborn as sns\n",
    "\n",
    "% matplotlib inline\n"
   ]
  },
  {
   "cell_type": "markdown",
   "metadata": {},
   "source": [
    "### Abrindo dataset "
   ]
  },
  {
   "cell_type": "code",
   "execution_count": 4,
   "metadata": {},
   "outputs": [
    {
     "data": {
      "text/html": [
       "<div>\n",
       "<style scoped>\n",
       "    .dataframe tbody tr th:only-of-type {\n",
       "        vertical-align: middle;\n",
       "    }\n",
       "\n",
       "    .dataframe tbody tr th {\n",
       "        vertical-align: top;\n",
       "    }\n",
       "\n",
       "    .dataframe thead th {\n",
       "        text-align: right;\n",
       "    }\n",
       "</style>\n",
       "<table border=\"1\" class=\"dataframe\">\n",
       "  <thead>\n",
       "    <tr style=\"text-align: right;\">\n",
       "      <th></th>\n",
       "      <th>PassengerId</th>\n",
       "      <th>Survived</th>\n",
       "      <th>Pclass</th>\n",
       "      <th>Name</th>\n",
       "      <th>Sex</th>\n",
       "      <th>Age</th>\n",
       "      <th>SibSp</th>\n",
       "      <th>Parch</th>\n",
       "      <th>Ticket</th>\n",
       "      <th>Fare</th>\n",
       "      <th>Cabin</th>\n",
       "      <th>Embarked</th>\n",
       "    </tr>\n",
       "  </thead>\n",
       "  <tbody>\n",
       "    <tr>\n",
       "      <th>0</th>\n",
       "      <td>1</td>\n",
       "      <td>0</td>\n",
       "      <td>3</td>\n",
       "      <td>Braund, Mr. Owen Harris</td>\n",
       "      <td>male</td>\n",
       "      <td>22.0</td>\n",
       "      <td>1</td>\n",
       "      <td>0</td>\n",
       "      <td>A/5 21171</td>\n",
       "      <td>7.2500</td>\n",
       "      <td>NaN</td>\n",
       "      <td>S</td>\n",
       "    </tr>\n",
       "    <tr>\n",
       "      <th>1</th>\n",
       "      <td>2</td>\n",
       "      <td>1</td>\n",
       "      <td>1</td>\n",
       "      <td>Cumings, Mrs. John Bradley (Florence Briggs Th...</td>\n",
       "      <td>female</td>\n",
       "      <td>38.0</td>\n",
       "      <td>1</td>\n",
       "      <td>0</td>\n",
       "      <td>PC 17599</td>\n",
       "      <td>71.2833</td>\n",
       "      <td>C85</td>\n",
       "      <td>C</td>\n",
       "    </tr>\n",
       "    <tr>\n",
       "      <th>2</th>\n",
       "      <td>3</td>\n",
       "      <td>1</td>\n",
       "      <td>3</td>\n",
       "      <td>Heikkinen, Miss. Laina</td>\n",
       "      <td>female</td>\n",
       "      <td>26.0</td>\n",
       "      <td>0</td>\n",
       "      <td>0</td>\n",
       "      <td>STON/O2. 3101282</td>\n",
       "      <td>7.9250</td>\n",
       "      <td>NaN</td>\n",
       "      <td>S</td>\n",
       "    </tr>\n",
       "    <tr>\n",
       "      <th>3</th>\n",
       "      <td>4</td>\n",
       "      <td>1</td>\n",
       "      <td>1</td>\n",
       "      <td>Futrelle, Mrs. Jacques Heath (Lily May Peel)</td>\n",
       "      <td>female</td>\n",
       "      <td>35.0</td>\n",
       "      <td>1</td>\n",
       "      <td>0</td>\n",
       "      <td>113803</td>\n",
       "      <td>53.1000</td>\n",
       "      <td>C123</td>\n",
       "      <td>S</td>\n",
       "    </tr>\n",
       "    <tr>\n",
       "      <th>4</th>\n",
       "      <td>5</td>\n",
       "      <td>0</td>\n",
       "      <td>3</td>\n",
       "      <td>Allen, Mr. William Henry</td>\n",
       "      <td>male</td>\n",
       "      <td>35.0</td>\n",
       "      <td>0</td>\n",
       "      <td>0</td>\n",
       "      <td>373450</td>\n",
       "      <td>8.0500</td>\n",
       "      <td>NaN</td>\n",
       "      <td>S</td>\n",
       "    </tr>\n",
       "  </tbody>\n",
       "</table>\n",
       "</div>"
      ],
      "text/plain": [
       "   PassengerId  Survived  Pclass  \\\n",
       "0            1         0       3   \n",
       "1            2         1       1   \n",
       "2            3         1       3   \n",
       "3            4         1       1   \n",
       "4            5         0       3   \n",
       "\n",
       "                                                Name     Sex   Age  SibSp  \\\n",
       "0                            Braund, Mr. Owen Harris    male  22.0      1   \n",
       "1  Cumings, Mrs. John Bradley (Florence Briggs Th...  female  38.0      1   \n",
       "2                             Heikkinen, Miss. Laina  female  26.0      0   \n",
       "3       Futrelle, Mrs. Jacques Heath (Lily May Peel)  female  35.0      1   \n",
       "4                           Allen, Mr. William Henry    male  35.0      0   \n",
       "\n",
       "   Parch            Ticket     Fare Cabin Embarked  \n",
       "0      0         A/5 21171   7.2500   NaN        S  \n",
       "1      0          PC 17599  71.2833   C85        C  \n",
       "2      0  STON/O2. 3101282   7.9250   NaN        S  \n",
       "3      0            113803  53.1000  C123        S  \n",
       "4      0            373450   8.0500   NaN        S  "
      ]
     },
     "execution_count": 4,
     "metadata": {},
     "output_type": "execute_result"
    }
   ],
   "source": [
    "#Abrindo dataset com ID passagens e sobrevivencia, onde 1 = sobreviveu e 0 = não sobreviveu\n",
    "#gender_submission = pd.read_csv(\"gender_submission.csv\")\n",
    "\n",
    "#Se eu quero filtrar uma coluna, devo colocar como a coluna index e depois filtrar usando a função filter do pandas como abaixo\n",
    "#gender_submission = pd.read_csv(\"gender_submission.csv\", index_col = \"Survived\")\n",
    "#gender_submission.filter(like='0', axis=0)\n",
    "        \n",
    "#Abrindo do dataset de treino do modelo que contem PassengerId, Survived, Pclass, Name, Sex, Age, SibSp, Parch, Ticket, Fare, Cabin, Embarked\n",
    "treino = pd.read_csv(\"train.csv\")\n",
    "teste = pd.read_csv(\"test.csv\")\n",
    "\n",
    "treino.head()"
   ]
  },
  {
   "cell_type": "markdown",
   "metadata": {},
   "source": [
    "## Informações dos datasets"
   ]
  },
  {
   "cell_type": "code",
   "execution_count": null,
   "metadata": {},
   "outputs": [],
   "source": [
    "treino.info()\n",
    "print(\"----------------------------------\")\n",
    "teste.info()"
   ]
  },
  {
   "cell_type": "markdown",
   "metadata": {},
   "source": [
    "#### Descrição do dataset \n",
    "1. Do nosso dataset de treino: \n",
    "    - 891 entradas (passageiros)\n",
    "    - 12 colunas, sendo que dessas colunas 7 são numéricas\n",
    "\n",
    "\n",
    "2. Do nosso dataset de teste\n",
    "    - 414 (passageiros)\n",
    "    - 11 colunas, sendo que 6 são numéricas"
   ]
  },
  {
   "cell_type": "code",
   "execution_count": null,
   "metadata": {
    "scrolled": true
   },
   "outputs": [],
   "source": [
    "#Descrição das variaveis \n",
    "\n",
    "variaveis_info = pd.DataFrame({\"Variáves\": [\"PassengerId\", 'Survived', 'Pclass', 'Name', 'Sex', 'Age','SibSp', 'Parch', 'Ticket', 'Fare',' Cabin', 'Embarked'\n",
    "], \"Definição\":[\"Identificação do passageiros\", \"Sobrevivência\", \"Classe da passagem\", 'Nome', 'Sexo', 'Idade', 'Irmão/conjuges a bordo', 'dos pais/filhos a bordo', 'Numero da passagem', 'Valor da passagem', 'Numero da cabine', 'Portão de embarque'],\"Chaves\":[\" \",\" 1 = Sobreviveu; 0 = Não sobreviveu\", \" 1 = 1st, 2 = 2nd, 3 = 3rd\", \" \", \" \", \" \", \" \", \" \", \" \", \" \", \" \", \"C = Cherbourg, Q = Queenstown, S = Southampton\"]})\n",
    "variaveis_info"
   ]
  },
  {
   "cell_type": "markdown",
   "metadata": {},
   "source": [
    "### Limpeza dos dados usando os 4 C's \n",
    "     - Corrigindo  - Se há outliers \n",
    "     - Complementando - Se há valores null \n",
    "     - Criando - Feature engineenging \n",
    "     - Convertendo - dados de diferente tipo (int, float, object...)"
   ]
  },
  {
   "cell_type": "code",
   "execution_count": null,
   "metadata": {},
   "outputs": [],
   "source": [
    "print('Treino com valores vazios:\\n', treino.isnull().sum()) \n",
    "print(\"----------------------------\")\n",
    "print('Teste com valores vazios:\\n',teste.isnull().sum())"
   ]
  },
  {
   "cell_type": "markdown",
   "metadata": {},
   "source": [
    "Valores como Age, Cabin e Embarked  no dataset de treino estão vazios \n",
    "\n",
    "Valores como Age, Cabin e Fare no dataset de teste estão vazios"
   ]
  },
  {
   "cell_type": "code",
   "execution_count": null,
   "metadata": {},
   "outputs": [],
   "source": [
    "#Dados estatisticos do treino \n",
    "treino.describe()"
   ]
  },
  {
   "cell_type": "code",
   "execution_count": null,
   "metadata": {},
   "outputs": [],
   "source": [
    "#Dados estatisticos do teste \n",
    "teste.describe()"
   ]
  },
  {
   "cell_type": "code",
   "execution_count": null,
   "metadata": {},
   "outputs": [],
   "source": [
    "treino.head()"
   ]
  },
  {
   "cell_type": "markdown",
   "metadata": {},
   "source": [
    "### Preencher valores vazios e remover colunas que creio que não seja util  "
   ]
  },
  {
   "cell_type": "code",
   "execution_count": null,
   "metadata": {},
   "outputs": [],
   "source": [
    "limpeza_dados = [treino, teste]\n",
    "\n",
    "for dataset in limpeza_dados:    \n",
    "    #preencher com a media dos valores\n",
    "    dataset['Age'].fillna(dataset['Age'].mean(), inplace = True)\n",
    "\n",
    "    #preencher embarked com a moda\n",
    "    dataset['Embarked'].fillna(dataset['Embarked'].mode()[0], inplace = True)\n",
    "\n",
    "    #preencher fare with mediana\n",
    "    dataset['Fare'].fillna(dataset['Fare'].median(), inplace = True)\n",
    "    \n",
    "#deletando colunas de passengerId, Cabin e Ticket \n",
    "drop_column = ['PassengerId','Cabin', 'Ticket']\n",
    "treino.drop(drop_column, axis = 1, inplace = True)\n",
    "\n",
    "print(treino.isnull().sum()) \n",
    "print(\"----------------------------\")\n",
    "print(teste.isnull().sum())\n"
   ]
  },
  {
   "cell_type": "markdown",
   "metadata": {},
   "source": [
    "## Feature Engineering \n"
   ]
  },
  {
   "cell_type": "code",
   "execution_count": null,
   "metadata": {},
   "outputs": [],
   "source": [
    "#Apartir das Features SibSp e Parch, foi criado uma nova feature do tamanho da familia  \n",
    "for dataset in limpeza_dados:\n",
    "    dataset[\"FamilySize\"] = dataset[\"SibSp\"] + dataset[\"Parch\"] + 1\n",
    "    \n",
    "    #Verificar se é um passageiro sozinho ou com familia \n",
    "    dataset[\"Alone\"] = 1 #onde 1 = sim \n",
    "    dataset[\"Alone\"].loc[dataset[\"FamilySize\"] > 1] = 0 # onde 0 = não \n",
    "    \n",
    "    dataset[\"Title\"] = dataset[\"Name\"].str.split(\", \", expand = True)[1].str.split(\".\", expand = True)[0] #separando o titulo Mrs, miss, mister, etc e criando ua nova coluna \n",
    "    \n",
    "\n",
    "print(treino['Title'].value_counts())\n",
    "print(\"-\"*10) \n",
    "\n",
    "\n",
    "treino.info()\n",
    "teste.info()\n"
   ]
  },
  {
   "cell_type": "markdown",
   "metadata": {},
   "source": [
    "## Converter valores categorico"
   ]
  },
  {
   "cell_type": "code",
   "execution_count": null,
   "metadata": {},
   "outputs": [],
   "source": [
    "from sklearn import preprocessing\n",
    "\n",
    "label = preprocessing.LabelEncoder()\n",
    "\n",
    "for dataset in limpeza_dados:\n",
    "    dataset[\"Sex_Encode\"] = label.fit_transform(dataset[\"Sex\"])\n",
    "    dataset[\"Embarked_Encode\"] = label.fit_transform(dataset[\"Embarked\"])\n",
    "    dataset[\"Title_Encode\"] = label.fit_transform(dataset[\"Title\"])"
   ]
  },
  {
   "cell_type": "markdown",
   "metadata": {},
   "source": [
    "### Verificando se os dados estão \"normalizados\""
   ]
  },
  {
   "cell_type": "code",
   "execution_count": null,
   "metadata": {},
   "outputs": [],
   "source": [
    "print(\"Treino com valores vazios: \\n\", treino.isnull().sum())\n",
    "print(\"-\"*10)\n",
    "print (treino.info())\n",
    "print(\"-\"*10)\n",
    "\n",
    "print('Teste com valores vazios:\\n', teste.isnull().sum())\n",
    "print(\"-\"*10)\n",
    "print (teste.info())\n",
    "print(\"-\"*10)   "
   ]
  },
  {
   "cell_type": "code",
   "execution_count": null,
   "metadata": {},
   "outputs": [],
   "source": []
  },
  {
   "cell_type": "code",
   "execution_count": null,
   "metadata": {},
   "outputs": [],
   "source": [
    "treino[['Sex', 'Survived']].groupby(['Sex'], as_index=False).mean().sort_values(by='Survived', ascending=False)"
   ]
  },
  {
   "cell_type": "code",
   "execution_count": null,
   "metadata": {},
   "outputs": [],
   "source": [
    "treino[['Pclass', 'Survived']].groupby(['Pclass'], as_index=False).mean().sort_values(by='Survived', ascending=False)\n",
    "\n",
    "g = sns.FacetGrid(treino, col='Survived')\n",
    "g.map(plt.hist, 'Pclass', bins=20)"
   ]
  },
  {
   "cell_type": "code",
   "execution_count": null,
   "metadata": {},
   "outputs": [],
   "source": [
    "#Agrupamento de sobrevivente por localização de embarque\n",
    "treino[['Embarked', 'Survived']].groupby(['Embarked'], as_index=False).mean().sort_values(by='Survived', ascending=False)"
   ]
  },
  {
   "cell_type": "code",
   "execution_count": null,
   "metadata": {
    "scrolled": true
   },
   "outputs": [],
   "source": [
    "#histograma de sobreviventes por idade \n",
    "\n",
    "g = sns.FacetGrid(treino, col='Survived')\n",
    "g.map(plt.hist, 'Age', bins=20)"
   ]
  },
  {
   "cell_type": "code",
   "execution_count": null,
   "metadata": {
    "scrolled": true
   },
   "outputs": [],
   "source": [
    "#heatmap \n",
    "\n",
    "fig = plt.figure(figsize = (15,8))\n",
    "\n",
    "ax1 = fig.add_subplot(111)\n",
    "cmap = cm.get_cmap('Greys', 30)\n",
    "cax = ax1.imshow(treino.corr(), interpolation=\"nearest\", cmap=cmap)\n",
    "plt.title(\"Matrix de correlação\")\n",
    "labels = list(treino)\n",
    "ax1.set_xticklabels(labels,fontsize=10)\n",
    "ax1.set_yticklabels(labels,fontsize=10)\n",
    "fig.colorbar(cax)\n",
    "plt.show()\n"
   ]
  },
  {
   "cell_type": "markdown",
   "metadata": {},
   "source": [
    "#### Conclusões tiradas com os dados estatisticos \n",
    "    - Na coluna Age, é possivel observar que há missing values e a idade média é de ~30 anos, ou seja pacientes mais novos\n",
    "    - Cerca de 38% dos passageiros sobreviveram \n",
    "    - A maioria das passagens era da segunda classe\n",
    "    - Passageiros da classe 3 foram os que mais morreram \n",
    "    - Mulheres sobreviveram mais que homens \n",
    "    "
   ]
  },
  {
   "cell_type": "code",
   "execution_count": null,
   "metadata": {},
   "outputs": [],
   "source": [
    "#Dados das colunas de strings \n",
    "treino.describe(include=['O'])\n"
   ]
  },
  {
   "cell_type": "markdown",
   "metadata": {},
   "source": [
    "#### Conclusões tiradas \n",
    "    - As colunas Cabin e Embarked há missing values \n",
    "    - Cerca de 65% dos passageiros são do sexo masculino \n",
    "    - Apesar de não possuir 3 valores é possivel falar que a maioria dos passageiros vem de Southampton\n",
    "    - Alguns passageiros dividem cabines, poso dizer isso pois há valores duplicados\n",
    "    - há certa de 23% de tickets duplicados\n",
    "   "
   ]
  },
  {
   "cell_type": "markdown",
   "metadata": {},
   "source": [
    "### Decisões que podem ser tomadas \n",
    "    - Considerar Classe, Idade, Sexo para o modelo \n",
    "    \n",
    "#### Então vamos explorar mais esses dados"
   ]
  },
  {
   "cell_type": "code",
   "execution_count": null,
   "metadata": {},
   "outputs": [],
   "source": [
    "#Analisando Classe juntamente com sobrevivencia e idade, pois observei que há uma variação entre essas variaveis  \n",
    "\n",
    "grid = sns.FacetGrid(treino, col='Survived', row='Pclass', size=2.2, aspect=1.6)\n",
    "grid.map(plt.hist, 'Age', alpha=.5, bins=20)\n",
    "grid.add_legend();"
   ]
  },
  {
   "cell_type": "markdown",
   "metadata": {},
   "source": [
    "### Conclusões tiradas \n",
    "    - Na Classe 1 \n",
    "        - como já pontuei anteriormente passageiros dessa classe sobreviveram mais que morreram \n",
    "        - a distribuição de idade é abrangente, então não houve nessa classe em especifico uma prioridade entre as idades dos passageiros \n",
    "    - Na Classe 2 \n",
    "        - Nessa classe passageiros entre 20 e 40 anos foram os que mais morreram \n",
    "    - Na Classe 3\n",
    "        - Foi a classe que mais tinha passageiros, e que mais morreram sendo a idade entre 20 e 40 anos predominante \n",
    "        - Aqui podemos observar que passageiros jovens tiveram prioridade em que quesito de sobrevivencia    "
   ]
  },
  {
   "cell_type": "code",
   "execution_count": null,
   "metadata": {},
   "outputs": [],
   "source": [
    "# Agora vamos explorar Sexo, Embarque, classe e sobrevivencia \n",
    "\n",
    "grid = sns.FacetGrid(treino, row='Embarked', size=2.2, aspect=1.6)\n",
    "grid.map(sns.pointplot, 'Pclass', 'Survived', 'Sex', palette='deep')\n",
    "grid.add_legend()\n"
   ]
  },
  {
   "cell_type": "code",
   "execution_count": null,
   "metadata": {},
   "outputs": [],
   "source": []
  },
  {
   "cell_type": "code",
   "execution_count": null,
   "metadata": {},
   "outputs": [],
   "source": []
  },
  {
   "cell_type": "code",
   "execution_count": null,
   "metadata": {},
   "outputs": [],
   "source": []
  },
  {
   "cell_type": "code",
   "execution_count": null,
   "metadata": {},
   "outputs": [],
   "source": []
  },
  {
   "cell_type": "code",
   "execution_count": null,
   "metadata": {},
   "outputs": [],
   "source": []
  },
  {
   "cell_type": "code",
   "execution_count": null,
   "metadata": {},
   "outputs": [],
   "source": []
  },
  {
   "cell_type": "code",
   "execution_count": null,
   "metadata": {},
   "outputs": [],
   "source": []
  },
  {
   "cell_type": "code",
   "execution_count": null,
   "metadata": {},
   "outputs": [],
   "source": []
  },
  {
   "cell_type": "code",
   "execution_count": null,
   "metadata": {},
   "outputs": [],
   "source": []
  },
  {
   "cell_type": "code",
   "execution_count": null,
   "metadata": {},
   "outputs": [],
   "source": []
  },
  {
   "cell_type": "code",
   "execution_count": null,
   "metadata": {},
   "outputs": [],
   "source": []
  }
 ],
 "metadata": {
  "kernelspec": {
   "display_name": "Python 3",
   "language": "python",
   "name": "python3"
  },
  "language_info": {
   "codemirror_mode": {
    "name": "ipython",
    "version": 3
   },
   "file_extension": ".py",
   "mimetype": "text/x-python",
   "name": "python",
   "nbconvert_exporter": "python",
   "pygments_lexer": "ipython3",
   "version": "3.6.5"
  }
 },
 "nbformat": 4,
 "nbformat_minor": 2
}
